{
 "cells": [
  {
   "cell_type": "code",
   "execution_count": 1,
   "metadata": {},
   "outputs": [
    {
     "ename": "ModuleNotFoundError",
     "evalue": "No module named 'pandas'",
     "output_type": "error",
     "traceback": [
      "\u001b[1;31m---------------------------------------------------------------------------\u001b[0m",
      "\u001b[1;31mModuleNotFoundError\u001b[0m                       Traceback (most recent call last)",
      "Cell \u001b[1;32mIn[1], line 1\u001b[0m\n\u001b[1;32m----> 1\u001b[0m \u001b[38;5;28;01mimport\u001b[39;00m \u001b[38;5;21;01mpandas\u001b[39;00m \u001b[38;5;28;01mas\u001b[39;00m \u001b[38;5;21;01mpd\u001b[39;00m\n\u001b[0;32m      2\u001b[0m \u001b[38;5;28;01mimport\u001b[39;00m \u001b[38;5;21;01mnumpy\u001b[39;00m \u001b[38;5;28;01mas\u001b[39;00m \u001b[38;5;21;01mnp\u001b[39;00m\n\u001b[0;32m      3\u001b[0m \u001b[38;5;28;01mimport\u001b[39;00m \u001b[38;5;21;01mcsv\u001b[39;00m\n",
      "\u001b[1;31mModuleNotFoundError\u001b[0m: No module named 'pandas'"
     ]
    }
   ],
   "source": [
    "import pandas as pd\n",
    "\n",
    "# Dados de exemplo\n",
    "data = pd.date_range(start='2024-01-01', end='2024-01-10', freq='D')\n",
    "precipitacao = np.random.uniform(0, 10, size=len(data))\n",
    "max_temp = np.random.uniform(20, 30, size=len(data))\n",
    "min_temp = np.random.uniform(10, 20, size=len(data))\n",
    "umidade_ar = np.random.uniform(50, 80, size=len(data))\n",
    "velocidade_vento = np.random.uniform(5, 15, size=len(data))\n",
    "media_temp = (max_temp + min_temp) / 2\n",
    "\n",
    "# Lendo um arquivo\n",
    "arquivo = open('C:\\\\Users\\\\administrador\\\\Downloads\\\\Arquivo_dados.csv', 'r')\n",
    "with open('C:\\\\Users\\\\administrador\\\\Downloads\\\\Arquivo_dados.csv', 'r') as arquivo:\n",
    "    dados_temperatura = pd.read_csv(arquivo)\n",
    "    \n",
    "\n",
    "\n",
    "\n",
    "\n",
    "# DataFrame\n",
    "df = pd.DataFrame({\n",
    "    'data': data,\n",
    "    'precipitacao': precipitacao,\n",
    "    'max_temp': max_temp,\n",
    "    'min_temp': min_temp,\n",
    "    'umidade_ar': umidade_ar,\n",
    "    'velocidade_vento': velocidade_vento,\n",
    "    'media_temp': media_temp\n",
    "})\n",
    "\n",
    "df.head()\n",
    "\n",
    "# Visualização do intervalo de dados em modo texto\n",
    "def visualizar_intervalo(dados):\n",
    "    mes_inicial = int(input('Digite o mes inicial: '))\n",
    "    mes_final = int(input('Digite o mes final: '))\n",
    "    ano_inicial = int(input('Digite o ano inicial: '))\n",
    "    ano_final = int(input('Digite o ano final: '))\n",
    "    \n",
    "    print(\"\\n Escolha o tipo de dados:\")\n",
    "    print(\"1 - Todos os dados\")\n",
    "    print(\"2 - Apenas precipitação\")\n",
    "    print(\"3 - Apenas temperatura\")\n",
    "    print(\"4 - Apenas umidade e vento\")\n",
    "\n",
    "    escolha = int(input(\"Escolha uma opção: \"))\n",
    "\n",
    "    dados_filtrados = []\n",
    "    \n",
    "    for i in range(len(dados)):\n",
    "        dados['data'] = pd.to_numeric(dados['data']).astype(int)\n",
    "        mes, ano = map(int, str(dados['data'][i]).split('-'))\n",
    "    \n",
    "    visualizar_intervalo(dados)\n",
    "\n",
    "    if mes_inicial <= mes <= mes_final and ano_inicial <= ano <= ano_final:\n",
    "        if escolha == 1:\n",
    "            dados_filtrados = dados\n",
    "        elif escolha == 2:\n",
    "            dados_filtrados = dados[dados['precipitacao'] > 0]\n",
    "        elif escolha == 3:\n",
    "            dados_filtrados = dados[dados['max_temp'] > 0]\n",
    "        elif escolha == 4:\n",
    "            dados_filtrados = dados[dados['umidade_ar'] > 0]\n",
    "            \n",
    "    # Exibir os dados filtrados\n",
    "    print(\"\\nDados no período selecionado:\")\n",
    "    for linha in dados_filtrados:\n",
    "        print(linha)\n",
    "\n",
    "\n",
    "visualizar_intervalo(df)"
   ]
  }
 ],
 "metadata": {
  "kernelspec": {
   "display_name": "Python 3",
   "language": "python",
   "name": "python3"
  },
  "language_info": {
   "codemirror_mode": {
    "name": "ipython",
    "version": 3
   },
   "file_extension": ".py",
   "mimetype": "text/x-python",
   "name": "python",
   "nbconvert_exporter": "python",
   "pygments_lexer": "ipython3",
   "version": "3.12.0"
  }
 },
 "nbformat": 4,
 "nbformat_minor": 2
}
